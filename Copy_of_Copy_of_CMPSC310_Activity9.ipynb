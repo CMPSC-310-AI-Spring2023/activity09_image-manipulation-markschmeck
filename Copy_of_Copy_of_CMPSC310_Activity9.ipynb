{
  "nbformat": 4,
  "nbformat_minor": 0,
  "metadata": {
    "colab": {
      "provenance": [],
      "include_colab_link": true
    },
    "kernelspec": {
      "name": "python3",
      "display_name": "Python 3"
    },
    "language_info": {
      "name": "python"
    }
  },
  "cells": [
    {
      "cell_type": "markdown",
      "metadata": {
        "id": "view-in-github",
        "colab_type": "text"
      },
      "source": [
        "<a href=\"https://colab.research.google.com/github/CMPSC-310-AI-Spring2023/activity09_image-manipulation-markschmeck/blob/main/Copy_of_Copy_of_CMPSC310_Activity9.ipynb\" target=\"_parent\"><img src=\"https://colab.research.google.com/assets/colab-badge.svg\" alt=\"Open In Colab\"/></a>"
      ]
    },
    {
      "cell_type": "markdown",
      "source": [
        "# **Activity 9: Image Manipulation **\n"
      ],
      "metadata": {
        "id": "vcrrIOhGjS0Z"
      }
    },
    {
      "cell_type": "code",
      "source": [
        "import numpy as np\n",
        "import cv2\n",
        "\n",
        "rect = np.zeros((300,300), dtype=\"uint8\")\n",
        "cv2.rectangle(rect, (25,25), (275, 275), 255, -1)\n",
        "cv2.imwrite(\"bitwise/Rectangle.png\", rect)\n",
        "\n",
        "circ = np.zeros((300,300), dtype=\"uint8\")\n",
        "cv2.circle(circ, (150,150), 150, 255, -1)\n",
        "cv2.imwrite(\"bitwise/Circle.png\", circ)\n",
        "\n",
        "bitwiseAnd = cv2.bitwise_and(rect, circ)\n",
        "cv2.imwrite(\"bitwise/AND.png\", bitwiseAnd)\n",
        "\n",
        "bitwiseOr = cv2.bitwise_or(rect, circ)\n",
        "cv2.imwrite(\"bitwise/OR.png\", bitwiseOr)\n",
        "\n",
        "bitwiseXor = cv2.bitwise_xor(rect, circ)\n",
        "cv2.imwrite(\"bitwise/XOR.png\", bitwiseXor)\n",
        "\n",
        "bitwiseNot = cv2.bitwise_not(rect, circ)\n",
        "cv2.imwrite(\"bitwise/NOT.png\", bitwiseNot)"
      ],
      "metadata": {
        "id": "TApIFT4cDGTt",
        "outputId": "bc0076bd-3904-4886-9b81-9672b7c7cc8e",
        "colab": {
          "base_uri": "https://localhost:8080/"
        }
      },
      "execution_count": null,
      "outputs": [
        {
          "output_type": "execute_result",
          "data": {
            "text/plain": [
              "False"
            ]
          },
          "metadata": {},
          "execution_count": 1
        }
      ]
    },
    {
      "cell_type": "code",
      "source": [
        "import numpy as np\n",
        "import cv2\n",
        "image = cv2.imread(\"content/drive/My Drive/Colab Notebooks/images/flint1.jpg\")\n",
        "print(image.shape)\n",
        "\n",
        "mask = np.zeros(image.shape[:2], dtype=\"uint8\")\n",
        "(cX,cY) = image.shape[1] // 2, image.shape[0] // 2)\n",
        "cv2.circle(mask, (cX - 75, cY - 75), (cX + 75, cY + 75), 255, -1)\n",
        "cv2.imwrite(\"mask1.png\", mask)\n",
        "\n",
        "masked = cv2.bitwise_and(image, image, mask=mask)\n",
        "cv2.imwrite(\"masked1.png\", masked)\n"
      ],
      "metadata": {
        "colab": {
          "base_uri": "https://localhost:8080/",
          "height": 132
        },
        "id": "bMYM-P15DfNN",
        "outputId": "4bed5ccb-dcf8-40bd-9a0a-8962d258e1bd"
      },
      "execution_count": null,
      "outputs": [
        {
          "output_type": "error",
          "ename": "SyntaxError",
          "evalue": "ignored",
          "traceback": [
            "\u001b[0;36m  File \u001b[0;32m\"<ipython-input-9-a4d25cdc6418>\"\u001b[0;36m, line \u001b[0;32m7\u001b[0m\n\u001b[0;31m    (cX,cY) = image.shape[1] // 2, image.shape[0] // 2)\u001b[0m\n\u001b[0m                                                      ^\u001b[0m\n\u001b[0;31mSyntaxError\u001b[0m\u001b[0;31m:\u001b[0m unmatched ')'\n"
          ]
        }
      ]
    },
    {
      "cell_type": "code",
      "source": [
        "import numpy as np\n",
        "import cv2\n",
        "\n",
        "image = cv2.imread"
      ],
      "metadata": {
        "id": "UdCImvCAl6z0"
      },
      "execution_count": null,
      "outputs": []
    },
    {
      "cell_type": "code",
      "source": [
        "from google.colab import drive\n",
        "drive.mount('/content/drive')"
      ],
      "metadata": {
        "id": "LAbDOmyVdEl6",
        "outputId": "a7061025-ebda-4ff6-b809-8a3395a4008a",
        "colab": {
          "base_uri": "https://localhost:8080/"
        }
      },
      "execution_count": null,
      "outputs": [
        {
          "output_type": "stream",
          "name": "stdout",
          "text": [
            "Drive already mounted at /content/drive; to attempt to forcibly remount, call drive.mount(\"/content/drive\", force_remount=True).\n"
          ]
        }
      ]
    },
    {
      "cell_type": "code",
      "source": [
        "import numpy as np\n",
        "import cv2\n",
        "\n",
        "image = cv2.imread(\"content/drive/My Drive/Colab Notebooks/images/flint1.jpg\")\n",
        "\n",
        "mask = np.zeros(image.shape[:2], dtype=\"uint8\")\n",
        "(cX,cY) = (image.shape[1] //10, image.shape[0] // 10\n",
        "print(cX)\n",
        "print(cY)\n",
        "cv2.rectangle(mask, (cX + 200), cY +200), (cX + 3000, cY +1200  ) \n",
        "\n"
      ],
      "metadata": {
        "id": "pAuOhRvLiZzR"
      },
      "execution_count": null,
      "outputs": []
    }
  ]
}